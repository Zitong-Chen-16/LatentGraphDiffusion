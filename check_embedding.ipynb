{
 "cells": [
  {
   "cell_type": "code",
   "execution_count": 1,
   "id": "ad1b8103-c5f4-47d6-b7a9-7b5a236676ae",
   "metadata": {
    "tags": []
   },
   "outputs": [
    {
     "name": "stderr",
     "output_type": "stream",
     "text": [
      "/home/samchen/projects/LatentGraphDiffusion/.venv/lib/python3.9/site-packages/tqdm/auto.py:21: TqdmWarning: IProgress not found. Please update jupyter and ipywidgets. See https://ipywidgets.readthedocs.io/en/stable/user_install.html\n",
      "  from .autonotebook import tqdm as notebook_tqdm\n"
     ]
    }
   ],
   "source": [
    "import os\n",
    "\n",
    "import umap \n",
    "from pathlib import Path\n",
    "import networkx as nx\n",
    "from networkx.linalg.algebraicconnectivity import algebraic_connectivity\n",
    "import matplotlib.pyplot as plt\n",
    "import seaborn as sns\n",
    "import torch\n",
    "from torch.utils.data import DataLoader as DataLoader\n",
    "import pandas as pd\n",
    "import numpy as np \n",
    "from sklearn.metrics import r2_score\n",
    "\n",
    "# from graphvae.model import GraphVAE\n",
    "# from graphvae.data import GraphAdjSampler"
   ]
  },
  {
   "cell_type": "code",
   "execution_count": 2,
   "id": "263240f7-11c8-4cda-9868-f9d5d47a678b",
   "metadata": {},
   "outputs": [],
   "source": [
    "import pretrain\n",
    "from torch_geometric.graphgym.loader import create_loader\n",
    "from torch_geometric.graphgym.checkpoint import MODEL_STATE\n",
    "from torch_geometric.graphgym.train import GraphGymDataModule\n",
    "from torch_geometric.graphgym.config import (cfg, dump_cfg,\n",
    "                                             set_cfg, load_cfg,\n",
    "                                             makedirs_rm_exist)"
   ]
  },
  {
   "cell_type": "code",
   "execution_count": 3,
   "id": "4f5ff931-e462-42f9-9d95-59d93c1a60ea",
   "metadata": {
    "tags": []
   },
   "outputs": [],
   "source": [
    "df_graphs_data = pd.read_csv('datasets/Evo_100/raw/graph_statistics.csv')"
   ]
  },
  {
   "cell_type": "markdown",
   "id": "2e8201a2-50fd-4b1a-9163-c00806330c27",
   "metadata": {
    "tags": []
   },
   "source": [
    "#### Read in Trained Autoencoder"
   ]
  },
  {
   "cell_type": "code",
   "execution_count": 4,
   "id": "bea6cb1c-0056-4228-81db-1fe1ebfa42f9",
   "metadata": {
    "tags": []
   },
   "outputs": [],
   "source": [
    "# # Build a VAE model\n",
    "# def build_model(feature_type, max_num_nodes):\n",
    "#     out_dim = max_num_nodes * (max_num_nodes + 1) // 2\n",
    "#     if feature_type == 'id':\n",
    "#         input_dim = max_num_nodes\n",
    "#     elif feature_type == 'deg':\n",
    "#         input_dim = 1\n",
    "#     elif feature_type == 'struct':\n",
    "#         input_dim = 2\n",
    "#     model = GraphVAE(input_dim, 64, 256, max_num_nodes)\n",
    "#     return model\n",
    "\n",
    "# def extract_vae_latent(model, input_features, adj):\n",
    "#     B, N, _ = adj.shape\n",
    "#     x = model.conv1(input_features, adj)\n",
    "#     x = model.bn1(x.transpose(1, 2)).transpose(1, 2)\n",
    "#     x = model.act(x)\n",
    "#     x = model.conv2(x, adj)\n",
    "#     x = model.bn2(x.transpose(1, 2)).transpose(1, 2)\n",
    "\n",
    "#     # pool over all nodes \n",
    "#     graph_h = model.pool_graph(x)\n",
    "\n",
    "#     # vae\n",
    "#     h_decode, z_mu, z_lsgms = model.vae(graph_h)\n",
    "#     return h_decode, z_mu, z_lsgms\n",
    "\n",
    "# # Extract latent vectors\n",
    "# def extract_latents(model, dataloader, device='cpu'):\n",
    "#     latents = []\n",
    "#     with torch.no_grad():\n",
    "#         for batch_idx, data in enumerate(dataloader):\n",
    "#             model.zero_grad()\n",
    "#             features = data['features'].float()\n",
    "#             adj_input = data['adj'].float()\n",
    "\n",
    "#             features = torch.tensor(features).to(device)\n",
    "#             adj_input = torch.tensor(adj_input).to(device)\n",
    "            \n",
    "#             h_decode, z_mu, z_lsgms = extract_vae_latent(model, features, adj_input)\n",
    "#             latents.append(z_mu.cpu())\n",
    "#     return torch.cat(latents, dim=0)"
   ]
  },
  {
   "cell_type": "code",
   "execution_count": 5,
   "id": "67b87d76-d4ed-4833-9e06-502463e643b4",
   "metadata": {},
   "outputs": [],
   "source": [
    "def extract_latents(model, loaders, device='cpu'):\n",
    "    latent_graph = []\n",
    "    latent_node = []\n",
    "    latent_edge = []\n",
    "    input_labels = []\n",
    "    names = []\n",
    "    with torch.no_grad():\n",
    "        for loader in loaders:\n",
    "            # loader = loaders[2] # test data\n",
    "            for iter, batch in enumerate(loader):\n",
    "                # batch.split = 'train'\n",
    "                batch.to(torch.device(device))\n",
    "                node_label, edge_label, graph_label = batch.x.clone().detach(), batch.edge_attr.clone().detach(), batch.y\n",
    "    \n",
    "                if cfg.dataset.get(\"align\", False):\n",
    "                    node_label = batch.x_simplified\n",
    "                if not cfg.train.pretrain.atom_bond_only:\n",
    "                    node_label = node_label[:, 0].flatten()\n",
    "                    edge_label = edge_label[:, 0].flatten()\n",
    "                else:\n",
    "                    node_label, edge_label = node_label.flatten(), edge_label.flatten()\n",
    "                \n",
    "                input_label = batch.y.clone().detach() if cfg.train.pretrain.input_target else None\n",
    "    \n",
    "                pred = model(batch, label=input_label)\n",
    "                \n",
    "                latent_graph.append(pred.graph_attr.cpu())\n",
    "                latent_node.append(pred.x.cpu())\n",
    "                latent_edge.append(pred.edge_attr.cpu())\n",
    "                input_labels.append(input_label.cpu())\n",
    "                names += batch.graph_name\n",
    "    lt_graph = torch.cat(latent_graph, dim=0)\n",
    "    lt_node = torch.cat(latent_node, dim=0)\n",
    "    lt_edge = torch.cat(latent_edge, dim=0)\n",
    "    input_labels = torch.cat(input_labels, dim=0)\n",
    "    return lt_graph, lt_node, lt_edge, input_labels, names"
   ]
  },
  {
   "cell_type": "code",
   "execution_count": 6,
   "id": "b5899ec7-4a03-402c-a521-eb1398e1d1d2",
   "metadata": {},
   "outputs": [
    {
     "name": "stdout",
     "output_type": "stream",
     "text": [
      "device: cuda:1\n"
     ]
    }
   ],
   "source": [
    "# Parameters for model\n",
    "run = '324'\n",
    "exp_dir = Path('results/evo-unconditional-encoder/')\n",
    "ckpt_file = exp_dir / '0/ckpt' / f'{run}.ckpt'\n",
    "cfg_path = exp_dir / 'config.yaml'\n",
    "\n",
    "\n",
    "device = torch.device(\"cuda:1\" if torch.cuda.is_available() else \"cpu\")\n",
    "print(f'device: {device}')"
   ]
  },
  {
   "cell_type": "code",
   "execution_count": 7,
   "id": "f16b140d-3077-4b9c-b0e4-7f59a329a0ba",
   "metadata": {},
   "outputs": [
    {
     "name": "stdout",
     "output_type": "stream",
     "text": [
      "Restored from results/evo-unconditional-encoder/0/ckpt/324.ckpt with 0 missing and 0 unexpected keys\n"
     ]
    },
    {
     "name": "stderr",
     "output_type": "stream",
     "text": [
      "/home/samchen/projects/LatentGraphDiffusion/.venv/lib/python3.9/site-packages/torch/nn/init.py:511: UserWarning: Initializing zero-element tensors is a no-op\n",
      "  warnings.warn(\"Initializing zero-element tensors is a no-op\")\n"
     ]
    }
   ],
   "source": [
    "set_cfg(cfg)\n",
    "cfg.set_new_allowed(True)\n",
    "cfg.merge_from_file(cfg_path)\n",
    "\n",
    "ckpt_dict = torch.load(ckpt_file, map_location=torch.device(device))[MODEL_STATE]\n",
    "model = pretrain.create_model_custom(cfg_name='encoder')\n",
    "model_dict = model.state_dict()\n",
    "model_dict.update(ckpt_dict)\n",
    "missing, unexpected = model.load_state_dict(model_dict, strict=False)\n",
    "print(f\"Restored from {ckpt_file} with {len(missing)} missing and {len(unexpected)} unexpected keys\")"
   ]
  },
  {
   "cell_type": "code",
   "execution_count": 8,
   "id": "0d76008b-50fc-433c-99f5-5bc821636114",
   "metadata": {},
   "outputs": [
    {
     "data": {
      "text/plain": [
       "GraphGymModule_custom(\n",
       "  (model): GraphTransformerStructureEncoder(\n",
       "    (act): ReLU()\n",
       "    (node_emb): TypeDictNodeEncoder(\n",
       "      (encoder): Embedding(17, 48, padding_idx=0)\n",
       "    )\n",
       "    (edge_emb): DummyEdgeEncoder(\n",
       "      (encoder): Embedding(1, 48)\n",
       "    )\n",
       "    (prefix_emb): Embedding(1, 96, padding_idx=0)\n",
       "    (label_embed_regression): Sequential(\n",
       "      (0): Linear(in_features=1, out_features=192, bias=True)\n",
       "      (1): ReLU()\n",
       "      (2): Linear(in_features=192, out_features=96, bias=True)\n",
       "      (3): Identity()\n",
       "      (4): ReLU()\n",
       "    )\n",
       "    (label_embed_classification): Embedding(3, 96)\n",
       "    (posenc_emb): Sequential(\n",
       "      (0): Identity()\n",
       "      (1): Linear(in_features=16, out_features=48, bias=True)\n",
       "    )\n",
       "    (posenc_emb_edge): Sequential(\n",
       "      (0): Identity()\n",
       "      (1): Linear(in_features=16, out_features=48, bias=True)\n",
       "    )\n",
       "    (node_in_mlp): Sequential(\n",
       "      (0): Linear(in_features=96, out_features=192, bias=True)\n",
       "      (1): ReLU()\n",
       "      (2): Linear(in_features=192, out_features=96, bias=True)\n",
       "    )\n",
       "    (edge_in_mlp): Sequential(\n",
       "      (0): Linear(in_features=96, out_features=192, bias=True)\n",
       "      (1): ReLU()\n",
       "      (2): Linear(in_features=192, out_features=96, bias=True)\n",
       "    )\n",
       "    (batch_norm_in_h): BatchNorm1d(96, eps=1e-05, momentum=0.1, affine=True, track_running_stats=True)\n",
       "    (batch_norm_in_e): BatchNorm1d(96, eps=1e-05, momentum=0.1, affine=True, track_running_stats=True)\n",
       "    (GTE_layers): ModuleList(\n",
       "      (0-4): 5 x GraphTransformerEncoderLayer(in_channels=96, out_channels=96, heads=4, residual=True)\n",
       "      [GraphTransformerEncoderLayer(\n",
       "        (act): ReLU()\n",
       "        (attention): GTE_Attention(\n",
       "          (dropout): Dropout(p=0.5, inplace=False)\n",
       "          (Q): Linear(in_features=96, out_features=96, bias=True)\n",
       "          (K): Linear(in_features=96, out_features=96, bias=False)\n",
       "          (E): Linear(in_features=96, out_features=192, bias=True)\n",
       "          (V): Linear(in_features=96, out_features=96, bias=False)\n",
       "          (act): ReLU()\n",
       "        )\n",
       "        (mpnn): GINE(\n",
       "          (dropout): Dropout(p=0.2, inplace=False)\n",
       "          (act): ReLU()\n",
       "          (lin_edge): Linear(in_features=96, out_features=96, bias=True)\n",
       "          (mlp): Sequential(\n",
       "            (0): Linear(in_features=96, out_features=192, bias=True)\n",
       "            (1): ReLU()\n",
       "            (2): Linear(in_features=192, out_features=96, bias=True)\n",
       "          )\n",
       "        )\n",
       "        (temb_proj_h): Linear(in_features=0, out_features=96, bias=True)\n",
       "        (temb_proj_e): Linear(in_features=0, out_features=96, bias=True)\n",
       "        (O_h): Linear(in_features=96, out_features=96, bias=True)\n",
       "        (O_e): Linear(in_features=96, out_features=96, bias=True)\n",
       "        (batch_norm1_h): BatchNorm1d(96, eps=1e-05, momentum=0.1, affine=True, track_running_stats=True)\n",
       "        (batch_norm1_e): BatchNorm1d(96, eps=1e-05, momentum=0.1, affine=True, track_running_stats=True)\n",
       "        (FFN_h_layer1): Linear(in_features=96, out_features=192, bias=True)\n",
       "        (FFN_h_layer2): Linear(in_features=192, out_features=96, bias=True)\n",
       "        (FFN_e_layer1): Linear(in_features=96, out_features=192, bias=True)\n",
       "        (FFN_e_layer2): Linear(in_features=192, out_features=96, bias=True)\n",
       "        (batch_norm2_h): BatchNorm1d(96, eps=1e-05, momentum=0.1, affine=True, track_running_stats=True)\n",
       "        (batch_norm2_e): BatchNorm1d(96, eps=1e-05, momentum=0.1, affine=True, track_running_stats=True)\n",
       "      )]\n",
       "    )\n",
       "    (final_layer_node): Sequential(\n",
       "      (0): Linear(in_features=96, out_features=64, bias=True)\n",
       "      (1): ReLU()\n",
       "      (2): Linear(in_features=64, out_features=32, bias=True)\n",
       "    )\n",
       "    (final_layer_edge): Sequential(\n",
       "      (0): Linear(in_features=96, out_features=64, bias=True)\n",
       "      (1): ReLU()\n",
       "      (2): Linear(in_features=64, out_features=32, bias=True)\n",
       "    )\n",
       "    (final_norm_node_1): LayerNorm((32,), eps=1e-05, elementwise_affine=True)\n",
       "    (final_norm_edge_1): LayerNorm((32,), eps=1e-05, elementwise_affine=True)\n",
       "    (graph_out_mlp): Identity()\n",
       "    (final_norm_node_2): LayerNorm((32,), eps=1e-05, elementwise_affine=True)\n",
       "    (graph_out_mlp_2): Identity()\n",
       "    (final_norm_edge_2): LayerNorm((32,), eps=1e-05, elementwise_affine=True)\n",
       "    (decode_node): Linear(in_features=32, out_features=21, bias=True)\n",
       "    (decode_edge): Linear(in_features=32, out_features=11, bias=True)\n",
       "    (decode_graph): Linear(in_features=32, out_features=1, bias=True)\n",
       "    (decode_node_from_edge): Linear(in_features=32, out_features=21, bias=True)\n",
       "    (decode_edge_from_node): Linear(in_features=32, out_features=11, bias=True)\n",
       "    (decode_nodes_from_edge): Linear(in_features=32, out_features=231, bias=True)\n",
       "    (decode_pe_from_node): Linear(in_features=32, out_features=16, bias=True)\n",
       "    (decode_pe_from_edge): Linear(in_features=32, out_features=16, bias=True)\n",
       "  )\n",
       ")"
      ]
     },
     "execution_count": 8,
     "metadata": {},
     "output_type": "execute_result"
    }
   ],
   "source": [
    "model.eval()"
   ]
  },
  {
   "cell_type": "code",
   "execution_count": 9,
   "id": "d2736ad1-f9bb-488c-af10-b7ea4160c45e",
   "metadata": {},
   "outputs": [
    {
     "name": "stderr",
     "output_type": "stream",
     "text": [
      "/home/samchen/projects/LatentGraphDiffusion/.venv/lib/python3.9/site-packages/torch_geometric/data/in_memory_dataset.py:300: UserWarning: It is not recommended to directly access the internal storage format `data` of an 'InMemoryDataset'. If you are absolutely certain what you are doing, access the internal storage via `InMemoryDataset._data` instead to suppress this warning. Alternatively, you can access stacked individual attributes of every graph via `dataset.{attr_name}`.\n",
      "  warnings.warn(msg)\n",
      "/home/samchen/projects/LatentGraphDiffusion/.venv/lib/python3.9/site-packages/torch_geometric/data/in_memory_dataset.py:300: UserWarning: It is not recommended to directly access the internal storage format `data` of an 'InMemoryDataset'. The data of the dataset is already cached, so any modifications to `data` will not be reflected when accessing its elements. Clearing the cache now by removing all elements in `dataset._data_list`. If you are absolutely certain what you are doing, access the internal storage via `InMemoryDataset._data` instead to suppress this warning. Alternatively, you can access stacked individual attributes of every graph via `dataset.{attr_name}`.\n",
      "  warnings.warn(msg)\n",
      "100%|█████████████████████████████████████████████████████████████████████████| 148/148 [00:00<00:00, 2173.06it/s]\n",
      "100%|████████████████████████████████████████████████████████████████████████| 148/148 [00:00<00:00, 14042.05it/s]\n"
     ]
    },
    {
     "name": "stdout",
     "output_type": "stream",
     "text": [
      "Dimension of lt_graph: torch.Size([148, 32]), lt_node:torch.Size([14949, 32]), lt_edge: torch.Size([1509951, 32])\n",
      "Length of input label: torch.Size([148])\n"
     ]
    }
   ],
   "source": [
    "loaders = GraphGymDataModule().loaders\n",
    "lt_graph, lt_node, lt_edge, input_labels, names = extract_latents(model, loaders, device)\n",
    "print(f'Dimension of lt_graph: {lt_graph.shape}, lt_node:{lt_node.shape}, lt_edge: {lt_edge.shape}')\n",
    "print(f'Length of input label: {input_labels.shape}')"
   ]
  },
  {
   "cell_type": "code",
   "execution_count": 10,
   "id": "16811c56-5b52-4f80-a736-e959529d7152",
   "metadata": {
    "tags": []
   },
   "outputs": [],
   "source": [
    "# filtered_idx = [i for i in range(len(family_list))]\n",
    "# filtered_idx = [i for i in range(len(family_list)) if (family_list[i] == 'BA') or (family_list[i] == 'Regular') ]"
   ]
  },
  {
   "cell_type": "code",
   "execution_count": 11,
   "id": "712fbb60-8da7-401e-8a36-e78c24bdcfb1",
   "metadata": {
    "tags": []
   },
   "outputs": [
    {
     "name": "stderr",
     "output_type": "stream",
     "text": [
      "/home/samchen/projects/LatentGraphDiffusion/.venv/lib/python3.9/site-packages/umap/umap_.py:1952: UserWarning: n_jobs value 1 overridden to 1 by setting random_state. Use no seed for parallelism.\n",
      "  warn(\n"
     ]
    }
   ],
   "source": [
    "# Plot UMAP\n",
    "reducer = umap.UMAP(n_neighbors=15, min_dist=0.1, metric='euclidean', random_state=42)\n",
    "embedding = reducer.fit_transform(lt_graph)  # shape (30, 2)"
   ]
  },
  {
   "cell_type": "code",
   "execution_count": 12,
   "id": "f14f84cc-5f92-4e62-94a0-5f232dedbafa",
   "metadata": {},
   "outputs": [],
   "source": [
    "df_embed = pd.DataFrame({\n",
    "    'graph_name': names,\n",
    "    'target': input_labels,\n",
    "    'embed_x': embedding[:, 0],\n",
    "    'embed_y': embedding[:, 1]\n",
    "})\n",
    "df = df_embed.merge(df_graphs_data, on='graph_name')\n",
    "df['graph_type'] = df['graph_name'].apply(lambda x: x.split('_')[0])"
   ]
  },
  {
   "cell_type": "code",
   "execution_count": 13,
   "id": "23a7e458-e022-4997-ac9c-255f152812a9",
   "metadata": {
    "tags": []
   },
   "outputs": [
    {
     "data": {
      "image/png": "[encoded data removed]",
      "text/plain": [
       "<Figure size 700x600 with 1 Axes>"
      ]
     },
     "metadata": {},
     "output_type": "display_data"
    }
   ],
   "source": [
    "# Plotting\n",
    "sns.set_theme(style='white')\n",
    "\n",
    "plt.figure(figsize=(7, 6))\n",
    "hue_metric = 'acc'\n",
    "scatter = sns.scatterplot(data=df, x='embed_x', y='embed_y', \n",
    "            hue=hue_metric, s=10, edgecolor='k')\n",
    "plt.legend(title=hue_metric)\n",
    "plt.title(\"UMAP of Graph Transformer Latent space\")\n",
    "plt.xlabel(\"UMAP 1\")\n",
    "plt.ylabel(\"UMAP 2\")\n",
    "\n",
    "figure_dir = Path('results/evo-unconditional-encoder/figures')\n",
    "figure_dir.mkdir(parents=True, exist_ok=True)\n",
    "\n",
    "output_fig_path = figure_dir / Path(f'umap_{hue_metric}_run{run}.png')\n",
    "plt.savefig(output_fig_path, bbox_inches='tight')"
   ]
  },
  {
   "cell_type": "markdown",
   "id": "156db573-3671-407d-b2d7-3159a576a896",
   "metadata": {},
   "source": [
    "#### Regression test"
   ]
  },
  {
   "cell_type": "code",
   "execution_count": 14,
   "id": "76e24887-c1eb-4646-9940-e919c18c3fe8",
   "metadata": {},
   "outputs": [
    {
     "name": "stdout",
     "output_type": "stream",
     "text": [
      "Linear probe regression metrics:\n",
      "  MSE: 0.0010\n",
      "  R²:  0.9854\n"
     ]
    }
   ],
   "source": [
    "import numpy as np\n",
    "from sklearn.linear_model import LinearRegression\n",
    "from sklearn.model_selection import train_test_split\n",
    "from sklearn.metrics import mean_squared_error, r2_score\n",
    "\n",
    "target = input_labels\n",
    "\n",
    "# 1. Split into new train/test sets for probing\n",
    "X_train, X_test, y_train, y_test = train_test_split(\n",
    "    lt_graph, target, test_size=0.3, random_state=42\n",
    ")\n",
    "\n",
    "# 2. Fit a linear regression model on the frozen embeddings\n",
    "reg = LinearRegression()\n",
    "reg.fit(X_train, y_train)\n",
    "\n",
    "# 3. Evaluate on test set\n",
    "y_pred = reg.predict(X_test)\n",
    "\n",
    "mse = mean_squared_error(y_test, y_pred)\n",
    "r2 = r2_score(y_test, y_pred)\n",
    "\n",
    "print(f\"Linear probe regression metrics:\")\n",
    "print(f\"  MSE: {mse:.4f}\")\n",
    "print(f\"  R²:  {r2:.4f}\")"
   ]
  },
  {
   "cell_type": "code",
   "execution_count": 15,
   "id": "618bca38-adc2-47f8-9525-b76ab0afaa7b",
   "metadata": {},
   "outputs": [
    {
     "name": "stdout",
     "output_type": "stream",
     "text": [
      "Null regression probe (randomized target):\n",
      "  MSE: 0.0921\n",
      "  R²:  -0.5794\n"
     ]
    }
   ],
   "source": [
    "# Null Experiment \n",
    "target = df['amp']\n",
    "\n",
    "# 1. Shuffle the targets randomly to break correlation\n",
    "np.random.seed(42)\n",
    "shuffled_targets = np.random.permutation(target)\n",
    "\n",
    "# 2. Create a train/test split\n",
    "X_train, X_test, y_train, y_test = train_test_split(\n",
    "    lt_graph, shuffled_targets, test_size=0.3, random_state=42\n",
    ")\n",
    "\n",
    "# 3. Train the same linear regressor on embeddings, but predict shuffled targets\n",
    "reg_null = LinearRegression()\n",
    "reg_null.fit(X_train, y_train)\n",
    "y_pred_null = reg_null.predict(X_test)\n",
    "\n",
    "# 4. Evaluate\n",
    "mse_null = mean_squared_error(y_test, y_pred_null)\n",
    "r2_null = r2_score(y_test, y_pred_null)\n",
    "\n",
    "\n",
    "print(\"Null regression probe (randomized target):\")\n",
    "print(f\"  MSE: {mse_null:.4f}\")\n",
    "print(f\"  R²:  {r2_null:.4f}\")\n"
   ]
  },
  {
   "cell_type": "markdown",
   "id": "d7bd8570-84c5-4c0d-9ec4-8287c453de50",
   "metadata": {},
   "source": [
    "#### Gaussian Test"
   ]
  },
  {
   "cell_type": "code",
   "execution_count": 17,
   "id": "f2580d92-7a0f-47bf-9ec5-ac08ef859cb4",
   "metadata": {},
   "outputs": [
    {
     "name": "stdout",
     "output_type": "stream",
     "text": [
      "BIC: -20004.888501272857\n"
     ]
    }
   ],
   "source": [
    "from sklearn.mixture import GaussianMixture\n",
    "\n",
    "gmm = GaussianMixture(n_components=5).fit(lt_graph.numpy())\n",
    "print(\"BIC:\", gmm.bic(lt_graph.numpy())) # Lower BIC score is better\n"
   ]
  },
  {
   "cell_type": "code",
   "execution_count": 19,
   "id": "a744784b-31cc-4f63-a85f-33c24621bf16",
   "metadata": {},
   "outputs": [
    {
     "data": {
      "image/png": "[encoded data removed]",
      "text/plain": [
       "<Figure size 640x480 with 1 Axes>"
      ]
     },
     "metadata": {},
     "output_type": "display_data"
    }
   ],
   "source": [
    "# Check modality of latent space \n",
    "import matplotlib.pyplot as plt\n",
    "from sklearn.mixture import GaussianMixture\n",
    "\n",
    "BICs = []\n",
    "for k in range(1, 11):\n",
    "    gmm = GaussianMixture(n_components=k).fit(lt_graph.numpy())\n",
    "    BICs.append(gmm.bic(lt_graph.numpy()))\n",
    "\n",
    "plt.plot(range(1, 11), BICs, marker='o')\n",
    "plt.xlabel(\"Number of Components\")\n",
    "plt.ylabel(\"BIC\")\n",
    "plt.title(\"GMM BIC Curve\")\n",
    "plt.show()\n"
   ]
  }
 ],
 "metadata": {
  "kernelspec": {
   "display_name": "latent-diffusion",
   "language": "python",
   "name": "latent-diffusion"
  },
  "language_info": {
   "codemirror_mode": {
    "name": "ipython",
    "version": 3
   },
   "file_extension": ".py",
   "mimetype": "text/x-python",
   "name": "python",
   "nbconvert_exporter": "python",
   "pygments_lexer": "ipython3",
   "version": "3.9.23"
  }
 },
 "nbformat": 4,
 "nbformat_minor": 5
}
